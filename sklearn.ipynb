{
 "cells": [
  {
   "cell_type": "code",
   "execution_count": 1,
   "metadata": {},
   "outputs": [],
   "source": [
    "import numpy as np\n",
    "import sys\n",
    "from sklearn.neural_network import MLPClassifier\n",
    "from sklearn.datasets import load_iris"
   ]
  },
  {
   "cell_type": "code",
   "execution_count": 2,
   "metadata": {},
   "outputs": [],
   "source": [
    "# From ffnn.ipynb\n",
    "def countSSError(results, expected_results):\n",
    "    results = np.array(results)\n",
    "    expected_results = np.array(expected_results)\n",
    "    if results.shape != expected_results.shape:\n",
    "        print(\"Error: array shape mismatch\")\n",
    "        sys.exit(1)\n",
    "    else:\n",
    "        return np.sum(np.square(results - expected_results))"
   ]
  },
  {
   "cell_type": "markdown",
   "metadata": {},
   "source": [
    "Sklearn Using Iris Dataset"
   ]
  },
  {
   "cell_type": "code",
   "execution_count": 3,
   "metadata": {},
   "outputs": [
    {
     "name": "stdout",
     "output_type": "stream",
     "text": [
      "SKLearn MLPClassifier with 5,3,3,2 hidden layers and relu activation function\n",
      "Prediction:\n",
      "[0 0 0 0 0 0 0 0 0 0 0 0 0 0 0 0 0 0 0 0 0 0 0 0 0 0 0 0 0 0 0 0 0 0 0 0 0\n",
      " 0 0 0 0 0 0 0 0 0 0 0 0 0 1 1 1 1 1 1 1 1 1 1 1 1 1 1 1 1 1 1 2 1 2 1 2 1\n",
      " 1 1 1 2 1 0 1 1 1 2 1 1 1 1 1 1 1 1 1 1 1 1 1 1 1 1 2 2 2 2 2 2 2 2 2 2 2\n",
      " 2 2 2 2 2 2 2 2 2 2 2 2 2 2 2 2 2 2 2 2 2 2 2 2 2 2 2 2 2 2 2 2 2 2 2 2 2\n",
      " 2 2]\n",
      "\n",
      "Target:\n",
      "[0 0 0 0 0 0 0 0 0 0 0 0 0 0 0 0 0 0 0 0 0 0 0 0 0 0 0 0 0 0 0 0 0 0 0 0 0\n",
      " 0 0 0 0 0 0 0 0 0 0 0 0 0 1 1 1 1 1 1 1 1 1 1 1 1 1 1 1 1 1 1 1 1 1 1 1 1\n",
      " 1 1 1 1 1 1 1 1 1 1 1 1 1 1 1 1 1 1 1 1 1 1 1 1 1 1 2 2 2 2 2 2 2 2 2 2 2\n",
      " 2 2 2 2 2 2 2 2 2 2 2 2 2 2 2 2 2 2 2 2 2 2 2 2 2 2 2 2 2 2 2 2 2 2 2 2 2\n",
      " 2 2]\n",
      "\n",
      "Error: 4.0 %\n"
     ]
    }
   ],
   "source": [
    "iris = load_iris()\n",
    "\n",
    "learning_data = np.array(iris.data)\n",
    "learning_target = np.array(iris.target)\n",
    "\n",
    "classifier = MLPClassifier(\n",
    "    hidden_layer_sizes=(5,3,3,2), \n",
    "    activation='relu', \n",
    "    max_iter=10000, \n",
    "    learning_rate='constant', \n",
    "    learning_rate_init=0.001, \n",
    "    random_state=1\n",
    "    )\n",
    "\n",
    "classifier.fit(learning_data, learning_target)\n",
    "y_pred = classifier.predict(learning_data)\n",
    "\n",
    "print(\"SKLearn MLPClassifier with 5,3,3,2 hidden layers and relu activation function\")\n",
    "print(f\"Prediction:\\n{y_pred}\")\n",
    "print()\n",
    "print(f\"Target:\\n{learning_target}\")\n",
    "print()\n",
    "\n",
    "error = countSSError(y_pred, learning_target)\n",
    "print(f\"Error: {error / len(learning_data) * 100} %\")"
   ]
  }
 ],
 "metadata": {
  "kernelspec": {
   "display_name": "Python 3",
   "language": "python",
   "name": "python3"
  },
  "language_info": {
   "codemirror_mode": {
    "name": "ipython",
    "version": 3
   },
   "file_extension": ".py",
   "mimetype": "text/x-python",
   "name": "python",
   "nbconvert_exporter": "python",
   "pygments_lexer": "ipython3",
   "version": "3.11.3"
  }
 },
 "nbformat": 4,
 "nbformat_minor": 2
}
